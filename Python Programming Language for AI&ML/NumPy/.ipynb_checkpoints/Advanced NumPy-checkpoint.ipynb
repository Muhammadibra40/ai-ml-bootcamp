{
 "cells": [
  {
   "cell_type": "markdown",
   "id": "e3275fb0-21e3-42fd-9862-569585aab1bd",
   "metadata": {},
   "source": [
    "# Reshaping Arrays in NumPy\n",
    "\n",
    "Reshaping arrays refers to changing the shape or dimensions of an array without changing its data. In NumPy, reshaping is useful when you want to manipulate data for tasks like matrix multiplication, machine learning, or data preprocessing.\n",
    "\n",
    "### reshape():\n",
    "- Change the shape of an array without changing its data.\n",
    "### flatten():   \n",
    "- Flatten a multi-dimensional array into a 1D array.\n",
    "### ravel():\t   \n",
    "- Flatten a multi-dimensional array (returns a view if possible).\n",
    "### transpose(): \n",
    "- Reverse or permute the axes of the array."
   ]
  },
  {
   "cell_type": "code",
   "execution_count": 1,
   "id": "c1c18aca-f396-41f8-84bb-f9dc23246a90",
   "metadata": {},
   "outputs": [],
   "source": [
    "import numpy as np"
   ]
  },
  {
   "cell_type": "code",
   "execution_count": 10,
   "id": "8978096c-4b00-4612-9a62-543985de4541",
   "metadata": {},
   "outputs": [
    {
     "name": "stdout",
     "output_type": "stream",
     "text": [
      "\n",
      "The reshaped array with order 'C':\n",
      " [[0.37454012 0.95071431 0.73199394]\n",
      " [0.59865848 0.15601864 0.15599452]]\n",
      "\n",
      "The reshaped array with order 'F':\n",
      " [[0.37454012 0.15601864 0.59865848]\n",
      " [0.73199394 0.95071431 0.15599452]]\n",
      "\n",
      "The reshaped array with order 'A':\n",
      " [[0.37454012 0.95071431 0.73199394]\n",
      " [0.59865848 0.15601864 0.15599452]]\n"
     ]
    }
   ],
   "source": [
    "np.random.seed(42)\n",
    "rand_arr = np.random.rand(3, 2)\n",
    "\n",
    "\n",
    "# Order\tDescription\tMemory Layout\n",
    "# 'C'\tRow-major order: Fills the array row by row. This is the default for NumPy arrays.\tRows change fastest.\n",
    "# 'F'\tColumn-major order: Fills the array column by column. Used in Fortran-like languages.\tColumns change fastest.\n",
    "# 'A'\tUses Fortran-order if possible, otherwise defaults to C-order.\tSimilar to Fortran-order if possible.\n",
    "\n",
    "reshaped_arr = np.reshape(rand_arr, (2, 3), 'C')\n",
    "print(f\"\\nThe reshaped array with order 'C':\\n {reshaped_arr}\")\n",
    "\n",
    "reshaped_arr = np.reshape(rand_arr, (2, 3), 'F')\n",
    "print(f\"\\nThe reshaped array with order 'F':\\n {reshaped_arr}\")\n",
    "\n",
    "reshaped_arr = np.reshape(rand_arr, (2, 3), 'A')\n",
    "print(f\"\\nThe reshaped array with order 'A':\\n {reshaped_arr}\")"
   ]
  },
  {
   "cell_type": "code",
   "execution_count": 13,
   "id": "e46814b0-14d0-464b-92df-8ddf88a1f863",
   "metadata": {},
   "outputs": [
    {
     "data": {
      "text/plain": [
       "array([0.37454012, 0.95071431, 0.73199394, 0.59865848, 0.15601864,\n",
       "       0.15599452])"
      ]
     },
     "execution_count": 13,
     "metadata": {},
     "output_type": "execute_result"
    }
   ],
   "source": [
    "flattened_arr = rand_arr.flatten()\n",
    "flattened_arr"
   ]
  },
  {
   "cell_type": "code",
   "execution_count": 21,
   "id": "1a118dfa-d908-4af0-aebd-5cb191c43cd2",
   "metadata": {},
   "outputs": [
    {
     "data": {
      "text/plain": [
       "array([[[0.37454012, 0.95071431, 0.73199394]],\n",
       "\n",
       "       [[0.59865848, 0.15601864, 0.15599452]]])"
      ]
     },
     "execution_count": 21,
     "metadata": {},
     "output_type": "execute_result"
    }
   ],
   "source": [
    "new_arr = flattened_arr.reshape(2, 1, 3)\n",
    "new_arr # 2 Metrices with a shape of 1x3"
   ]
  },
  {
   "cell_type": "markdown",
   "id": "d2dfb177-acc1-4f2f-9526-bf0be283d296",
   "metadata": {},
   "source": [
    "### Stacking and Splitting"
   ]
  },
  {
   "cell_type": "code",
   "execution_count": 26,
   "id": "a9f0b080-3f61-4fa5-98e8-dad2bfe86f6c",
   "metadata": {},
   "outputs": [
    {
     "name": "stdout",
     "output_type": "stream",
     "text": [
      "Vertical Stacking: [[ 1  2  3]\n",
      " [ 4  5  6]\n",
      " [ 7  8  9]\n",
      " [10 11 12]]\n",
      "\n",
      "Horizontal Stacking: [[ 1  2  3  7  8  9]\n",
      " [ 4  5  6 10 11 12]]\n"
     ]
    }
   ],
   "source": [
    "# stacking two metrices into one metrix.\n",
    "arr1 = np.array([[1, 2, 3], [4, 5, 6]])\n",
    "arr2 = np.array([[7, 8, 9], [10, 11, 12]])\n",
    "\n",
    "arr_v = np.vstack((arr1, arr2))\n",
    "arr_h = np.hstack((arr1, arr2))\n",
    "\n",
    "print(f\"Vertical Stacking: {arr_v}\")\n",
    "print(f\"\\nHorizontal Stacking: {arr_h}\")"
   ]
  },
  {
   "cell_type": "code",
   "execution_count": 30,
   "id": "50963bbe-59e0-4194-8620-5e51ebf172d4",
   "metadata": {},
   "outputs": [
    {
     "name": "stdout",
     "output_type": "stream",
     "text": [
      "\n",
      "Vertical Split: [array([[1, 2, 3],\n",
      "       [4, 5, 6]]), array([[ 7,  8,  9],\n",
      "       [10, 11, 12]])]\n"
     ]
    },
    {
     "ename": "ValueError",
     "evalue": "array split does not result in an equal division",
     "output_type": "error",
     "traceback": [
      "\u001b[1;31m---------------------------------------------------------------------------\u001b[0m",
      "\u001b[1;31mValueError\u001b[0m                                Traceback (most recent call last)",
      "Cell \u001b[1;32mIn[30], line 4\u001b[0m\n\u001b[0;32m      1\u001b[0m split_arr_v \u001b[38;5;241m=\u001b[39m np\u001b[38;5;241m.\u001b[39mvsplit(arr_v, \u001b[38;5;241m2\u001b[39m)\n\u001b[0;32m      2\u001b[0m \u001b[38;5;28mprint\u001b[39m(\u001b[38;5;124mf\u001b[39m\u001b[38;5;124m\"\u001b[39m\u001b[38;5;130;01m\\n\u001b[39;00m\u001b[38;5;124mVertical Split: \u001b[39m\u001b[38;5;132;01m{\u001b[39;00msplit_arr_v\u001b[38;5;132;01m}\u001b[39;00m\u001b[38;5;124m\"\u001b[39m)\n\u001b[1;32m----> 4\u001b[0m split_arr_h \u001b[38;5;241m=\u001b[39m \u001b[43mnp\u001b[49m\u001b[38;5;241;43m.\u001b[39;49m\u001b[43mhsplit\u001b[49m\u001b[43m(\u001b[49m\u001b[43marr_v\u001b[49m\u001b[43m,\u001b[49m\u001b[43m \u001b[49m\u001b[38;5;241;43m2\u001b[39;49m\u001b[43m)\u001b[49m\n\u001b[0;32m      5\u001b[0m \u001b[38;5;28mprint\u001b[39m(\u001b[38;5;124mf\u001b[39m\u001b[38;5;124m\"\u001b[39m\u001b[38;5;130;01m\\n\u001b[39;00m\u001b[38;5;124mHorizontal Split: \u001b[39m\u001b[38;5;132;01m{\u001b[39;00msplit_arr_h\u001b[38;5;132;01m}\u001b[39;00m\u001b[38;5;124m\"\u001b[39m)\n",
      "File \u001b[1;32m~\\AppData\\Local\\Packages\\PythonSoftwareFoundation.Python.3.11_qbz5n2kfra8p0\\LocalCache\\local-packages\\Python311\\site-packages\\numpy\\lib\\shape_base.py:938\u001b[0m, in \u001b[0;36mhsplit\u001b[1;34m(ary, indices_or_sections)\u001b[0m\n\u001b[0;32m    936\u001b[0m     \u001b[38;5;28;01mraise\u001b[39;00m \u001b[38;5;167;01mValueError\u001b[39;00m(\u001b[38;5;124m'\u001b[39m\u001b[38;5;124mhsplit only works on arrays of 1 or more dimensions\u001b[39m\u001b[38;5;124m'\u001b[39m)\n\u001b[0;32m    937\u001b[0m \u001b[38;5;28;01mif\u001b[39;00m ary\u001b[38;5;241m.\u001b[39mndim \u001b[38;5;241m>\u001b[39m \u001b[38;5;241m1\u001b[39m:\n\u001b[1;32m--> 938\u001b[0m     \u001b[38;5;28;01mreturn\u001b[39;00m \u001b[43msplit\u001b[49m\u001b[43m(\u001b[49m\u001b[43mary\u001b[49m\u001b[43m,\u001b[49m\u001b[43m \u001b[49m\u001b[43mindices_or_sections\u001b[49m\u001b[43m,\u001b[49m\u001b[43m \u001b[49m\u001b[38;5;241;43m1\u001b[39;49m\u001b[43m)\u001b[49m\n\u001b[0;32m    939\u001b[0m \u001b[38;5;28;01melse\u001b[39;00m:\n\u001b[0;32m    940\u001b[0m     \u001b[38;5;28;01mreturn\u001b[39;00m split(ary, indices_or_sections, \u001b[38;5;241m0\u001b[39m)\n",
      "File \u001b[1;32m~\\AppData\\Local\\Packages\\PythonSoftwareFoundation.Python.3.11_qbz5n2kfra8p0\\LocalCache\\local-packages\\Python311\\site-packages\\numpy\\lib\\shape_base.py:864\u001b[0m, in \u001b[0;36msplit\u001b[1;34m(ary, indices_or_sections, axis)\u001b[0m\n\u001b[0;32m    862\u001b[0m     N \u001b[38;5;241m=\u001b[39m ary\u001b[38;5;241m.\u001b[39mshape[axis]\n\u001b[0;32m    863\u001b[0m     \u001b[38;5;28;01mif\u001b[39;00m N \u001b[38;5;241m%\u001b[39m sections:\n\u001b[1;32m--> 864\u001b[0m         \u001b[38;5;28;01mraise\u001b[39;00m \u001b[38;5;167;01mValueError\u001b[39;00m(\n\u001b[0;32m    865\u001b[0m             \u001b[38;5;124m'\u001b[39m\u001b[38;5;124marray split does not result in an equal division\u001b[39m\u001b[38;5;124m'\u001b[39m) \u001b[38;5;28;01mfrom\u001b[39;00m \u001b[38;5;28;01mNone\u001b[39;00m\n\u001b[0;32m    866\u001b[0m \u001b[38;5;28;01mreturn\u001b[39;00m array_split(ary, indices_or_sections, axis)\n",
      "\u001b[1;31mValueError\u001b[0m: array split does not result in an equal division"
     ]
    }
   ],
   "source": [
    "# vsplit only works on arrays of 2 or more dimensions\n",
    "split_arr_v = np.vsplit(arr_v, 2)\n",
    "print(f\"\\nVertical Split: {split_arr_v}\")\n",
    "\n",
    "split_arr_h = np.hsplit(arr_v, 2)\n",
    "print(f\"\\nHorizontal Split: {split_arr_h}\")"
   ]
  },
  {
   "cell_type": "code",
   "execution_count": 36,
   "id": "2aff694d-f617-4ba7-a845-838da51847c4",
   "metadata": {},
   "outputs": [
    {
     "name": "stdout",
     "output_type": "stream",
     "text": [
      "The horizontal Split: [array([[ 1,  2],\n",
      "       [ 4,  5],\n",
      "       [ 7,  8],\n",
      "       [10, 11]]), array([[ 3,  4],\n",
      "       [ 6,  7],\n",
      "       [ 9, 10],\n",
      "       [12, 15]])]\n",
      "\n",
      "The vertical Split: [array([[1, 2, 3, 4],\n",
      "       [4, 5, 6, 7]]), array([[ 7,  8,  9, 10],\n",
      "       [10, 11, 12, 15]])]\n"
     ]
    }
   ],
   "source": [
    "another_v_arr = np.array([[ 1,  2,  3, 4],\n",
    " [ 4,  5,  6, 7],\n",
    " [ 7,  8,  9, 10],\n",
    " [10, 11, 12, 15]])\n",
    "\n",
    "horz_split = np.hsplit(another_v_arr, 2)\n",
    "print(f\"The horizontal Split: {horz_split}\")\n",
    "\n",
    "ver_split = np.vsplit(another_v_arr, 2)\n",
    "print(f\"\\nThe vertical Split: {ver_split}\")"
   ]
  },
  {
   "cell_type": "markdown",
   "id": "516358d4-5741-4982-8d3a-3a7a57fe9d2b",
   "metadata": {},
   "source": [
    "### Fancey / Advanced Indexing "
   ]
  },
  {
   "cell_type": "code",
   "execution_count": 38,
   "id": "3d6332c0-d094-408b-be68-51a6a4f8c591",
   "metadata": {},
   "outputs": [
    {
     "name": "stdout",
     "output_type": "stream",
     "text": [
      "[2 3 4]\n"
     ]
    }
   ],
   "source": [
    "org_arr = np.array([0, 1, 2, 3, 4, 5, 6, 7, 8])\n",
    "indecies = [2, 3, 4]\n",
    "\n",
    "fancy_indecies_values = org_arr[indecies]\n",
    "\n",
    "print(fancy_indecies_values)"
   ]
  },
  {
   "cell_type": "code",
   "execution_count": 40,
   "id": "cd11f29b-f536-458c-9e4d-2f4aa1df9bd2",
   "metadata": {},
   "outputs": [
    {
     "name": "stdout",
     "output_type": "stream",
     "text": [
      "[2 3 4]\n"
     ]
    }
   ],
   "source": [
    "mask = (org_arr > 1) & (org_arr < 5)\n",
    "values = org_arr[mask]\n",
    "\n",
    "print(values)"
   ]
  },
  {
   "cell_type": "code",
   "execution_count": null,
   "id": "99d3c947-43a6-4bb4-9fb6-bcbcf60c9e5e",
   "metadata": {},
   "outputs": [],
   "source": []
  }
 ],
 "metadata": {
  "kernelspec": {
   "display_name": "Python 3 (ipykernel)",
   "language": "python",
   "name": "python3"
  },
  "language_info": {
   "codemirror_mode": {
    "name": "ipython",
    "version": 3
   },
   "file_extension": ".py",
   "mimetype": "text/x-python",
   "name": "python",
   "nbconvert_exporter": "python",
   "pygments_lexer": "ipython3",
   "version": "3.11.9"
  }
 },
 "nbformat": 4,
 "nbformat_minor": 5
}
