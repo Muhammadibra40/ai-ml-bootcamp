{
 "cells": [
  {
   "cell_type": "code",
   "execution_count": 1,
   "id": "56f88da8-f6b9-4822-b7b9-d25e831b9392",
   "metadata": {},
   "outputs": [],
   "source": [
    "import numpy as np"
   ]
  },
  {
   "cell_type": "markdown",
   "id": "d8487b8d-aab3-42b6-ac0e-7fed7ce0440c",
   "metadata": {},
   "source": [
    "# Linear Algebra in NumPy\n",
    "\n",
    "NumPy provides a rich set of linear algebra functions in the `numpy.linalg` module. These functions are optimized for matrix operations and solve many common problems in linear algebra.\n",
    "\n",
    "---\n",
    "\n",
    "## Key Linear Algebra Operations\n",
    "\n",
    "### 1. Matrix Multiplication\n",
    "You can perform matrix multiplication using:\n",
    "- **`@` operator** (introduced in Python 3.5+)\n",
    "- **`numpy.dot`** or **`numpy.matmul`**\n",
    "\n",
    "### 2. Transpose of a Matrix\n",
    "The transpose of a matrix can be obtained using .T.\n",
    "\n",
    "### 3. Determinant of a Matrix\n",
    "Use numpy.linalg.det to calculate the determinant.\n",
    "\n",
    "### 4. Inverse of a Matrix\n",
    "Use numpy.linalg.inv to compute the inverse of a square matrix.\n",
    "\n",
    "### 5. Eigenvalues and Eigenvectors\n",
    "Use numpy.linalg.eig to compute eigenvalues and eigenvectors.\n",
    "\n",
    "### 6. Singular Value Decomposition (SVD)\n",
    "Use numpy.linalg.svd for Singular Value Decomposition.\n",
    "\n",
    "### 7. Solving a System of Linear Equations\n",
    "Use numpy.linalg.solve to solve systems of linear equations of the form Ax = B.\n",
    "\n",
    "### 8. Norm of a Vector or Matrix\n",
    "Use numpy.linalg.norm to calculate the norm.\n"
   ]
  },
  {
   "cell_type": "code",
   "execution_count": 3,
   "id": "de4b7a85-1f64-41ff-b454-9835b3547d2c",
   "metadata": {},
   "outputs": [
    {
     "ename": "ValueError",
     "evalue": "shapes (2,3) and (2,3) not aligned: 3 (dim 1) != 2 (dim 0)",
     "output_type": "error",
     "traceback": [
      "\u001b[1;31m---------------------------------------------------------------------------\u001b[0m",
      "\u001b[1;31mValueError\u001b[0m                                Traceback (most recent call last)",
      "Cell \u001b[1;32mIn[3], line 4\u001b[0m\n\u001b[0;32m      1\u001b[0m mat1 \u001b[38;5;241m=\u001b[39m [[\u001b[38;5;241m1\u001b[39m, \u001b[38;5;241m2\u001b[39m, \u001b[38;5;241m3\u001b[39m], [\u001b[38;5;241m4\u001b[39m, \u001b[38;5;241m5\u001b[39m, \u001b[38;5;241m6\u001b[39m]]\n\u001b[0;32m      2\u001b[0m mat2 \u001b[38;5;241m=\u001b[39m [[\u001b[38;5;241m7\u001b[39m, \u001b[38;5;241m8\u001b[39m, \u001b[38;5;241m9\u001b[39m], [\u001b[38;5;241m10\u001b[39m, \u001b[38;5;241m11\u001b[39m, \u001b[38;5;241m12\u001b[39m]]\n\u001b[1;32m----> 4\u001b[0m res \u001b[38;5;241m=\u001b[39m \u001b[43mnp\u001b[49m\u001b[38;5;241;43m.\u001b[39;49m\u001b[43mdot\u001b[49m\u001b[43m(\u001b[49m\u001b[43mmat1\u001b[49m\u001b[43m,\u001b[49m\u001b[43m \u001b[49m\u001b[43mmat2\u001b[49m\u001b[43m)\u001b[49m\n\u001b[0;32m      5\u001b[0m \u001b[38;5;28mprint\u001b[39m(res)\n",
      "\u001b[1;31mValueError\u001b[0m: shapes (2,3) and (2,3) not aligned: 3 (dim 1) != 2 (dim 0)"
     ]
    }
   ],
   "source": [
    "mat1 = [[1, 2, 3], [4, 5, 6]]\n",
    "mat2 = [[7, 8, 9], [10, 11, 12]]\n",
    "\n",
    "res = np.dot(mat1, mat2)\n",
    "print(res)"
   ]
  },
  {
   "cell_type": "code",
   "execution_count": 8,
   "id": "bac81c8d-97e0-4cc2-9a2d-7e0f9c56ee77",
   "metadata": {},
   "outputs": [
    {
     "name": "stdout",
     "output_type": "stream",
     "text": [
      "[[ 54  66]\n",
      " [132 159]]\n",
      "[[ 54  66]\n",
      " [132 159]]\n",
      "True\n"
     ]
    }
   ],
   "source": [
    "mat1 = np.array([[1, 2, 3], [4, 5, 6]]) # matrix of shape 2x3\n",
    "mat2 = np.array([[7, 8], [10, 11], [9, 12]]) # matrix of shape 3x2\n",
    "\n",
    "res = np.dot(mat1, mat2)\n",
    "print(res)\n",
    "# or operator '@'\n",
    "res = mat1@mat2\n",
    "print(res)\n",
    "\n",
    "# no. of columns in first matrix must be equal to no. of rows in the second matrix.\n",
    "print(mat1.shape[1] == mat2.shape[0])"
   ]
  },
  {
   "cell_type": "code",
   "execution_count": 9,
   "id": "900c1331-fb0c-45c1-88d9-f167d018cb14",
   "metadata": {},
   "outputs": [
    {
     "name": "stdout",
     "output_type": "stream",
     "text": [
      "[[1 4]\n",
      " [2 5]\n",
      " [3 6]]\n"
     ]
    }
   ],
   "source": [
    "# Getting the transpose of a matrix.\n",
    "print(mat1.T)"
   ]
  },
  {
   "cell_type": "code",
   "execution_count": null,
   "id": "b2d29342-15e8-49f5-aa21-ba097a4d96de",
   "metadata": {},
   "outputs": [],
   "source": []
  }
 ],
 "metadata": {
  "kernelspec": {
   "display_name": "Python 3 (ipykernel)",
   "language": "python",
   "name": "python3"
  },
  "language_info": {
   "codemirror_mode": {
    "name": "ipython",
    "version": 3
   },
   "file_extension": ".py",
   "mimetype": "text/x-python",
   "name": "python",
   "nbconvert_exporter": "python",
   "pygments_lexer": "ipython3",
   "version": "3.11.9"
  }
 },
 "nbformat": 4,
 "nbformat_minor": 5
}
