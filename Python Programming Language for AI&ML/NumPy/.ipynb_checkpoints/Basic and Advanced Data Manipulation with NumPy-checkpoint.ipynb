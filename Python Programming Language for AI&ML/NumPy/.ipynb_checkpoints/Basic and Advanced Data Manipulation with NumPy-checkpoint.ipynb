{
 "cells": [
  {
   "cell_type": "code",
   "execution_count": 1,
   "id": "446fc2f9-b4d3-4c28-be4b-7d1285c7c958",
   "metadata": {},
   "outputs": [],
   "source": [
    "import numpy as np"
   ]
  },
  {
   "cell_type": "markdown",
   "id": "98479363-adef-41dd-9f54-972fdc314881",
   "metadata": {},
   "source": [
    "# Requirement 1:"
   ]
  },
  {
   "cell_type": "code",
   "execution_count": 10,
   "id": "d65224e2-2e4c-484e-8c89-ae3f8cbd565a",
   "metadata": {},
   "outputs": [
    {
     "name": "stdout",
     "output_type": "stream",
     "text": [
      "int_arr & flt_arr: \n",
      "The Addition Result: [2.1 4.2 6.3 8.4]\n",
      "The Subtraction Result: [-0.1 -0.2 -0.3 -0.4]\n",
      "The Multiplication Result: [ 1.1  4.4  9.9 17.6]\n",
      "\n",
      "int_arr & bol_arr: \n",
      "The Addition Result: [2 2 4 4]\n",
      "The Subtraction Result: [0 2 2 4]\n",
      "The Multiplication Result: [1 0 3 0]\n",
      "\n",
      "flt_arr & bol_arr: \n",
      "The Addition Result: [2.1 2.2 4.3 4.4]\n",
      "The Subtraction Result: [0.1 2.2 2.3 4.4]\n",
      "The Multiplication Result: [1.1 0.  3.3 0. ]\n"
     ]
    }
   ],
   "source": [
    "int_arr = np.array([1, 2, 3, 4])\n",
    "flt_arr = np.array([1.1, 2.2, 3.3, 4.4])\n",
    "bol_arr = np.array([True, False, True, False])\n",
    "\n",
    "print(\"int_arr & flt_arr: \")\n",
    "print(f\"The Addition Result: {int_arr + flt_arr}\")\n",
    "print(f\"The Subtraction Result: {int_arr - flt_arr}\")\n",
    "print(f\"The Multiplication Result: {int_arr * flt_arr}\")\n",
    "\n",
    "\n",
    "print(\"\\nint_arr & bol_arr: \")\n",
    "print(f\"The Addition Result: {int_arr + bol_arr}\")\n",
    "print(f\"The Subtraction Result: {int_arr - bol_arr}\")\n",
    "print(f\"The Multiplication Result: {int_arr * bol_arr}\")\n",
    "\n",
    "print(\"\\nflt_arr & bol_arr: \")\n",
    "print(f\"The Addition Result: {flt_arr + bol_arr}\")\n",
    "print(f\"The Subtraction Result: {flt_arr - bol_arr}\")\n",
    "print(f\"The Multiplication Result: {flt_arr * bol_arr}\")"
   ]
  },
  {
   "cell_type": "markdown",
   "id": "b3d41c22-65eb-4343-8d6b-80870cc8810f",
   "metadata": {},
   "source": [
    "# Requirement 2:"
   ]
  },
  {
   "cell_type": "code",
   "execution_count": 16,
   "id": "5fe58904-5d37-416b-b462-f4ab24ee5568",
   "metadata": {},
   "outputs": [
    {
     "name": "stdout",
     "output_type": "stream",
     "text": [
      "The Reshaped array:\n",
      " [[ 1  2  3  4  5]\n",
      " [ 6  7  8  9 10]]\n",
      "\n",
      "The Result of boolean indexing array:\n",
      " [4 5 6 7]\n"
     ]
    }
   ],
   "source": [
    "org_arr = np.array([1, 2, 3, 4, 5, 6, 7, 8, 9, 10])\n",
    "\n",
    "reshaped_arr = np.reshape(org_arr, (2, 5))\n",
    "print(f\"The Reshaped array:\\n {reshaped_arr}\")\n",
    "\n",
    "mask = (org_arr > 3) & (org_arr < 8)\n",
    "bool_index_arr = org_arr[mask]\n",
    "print(f\"\\nThe Result of boolean indexing array:\\n {bool_index_arr}\")"
   ]
  },
  {
   "cell_type": "code",
   "execution_count": 26,
   "id": "97a34716-afc3-400d-9337-22fd6f5e9252",
   "metadata": {},
   "outputs": [
    {
     "name": "stdout",
     "output_type": "stream",
     "text": [
      "The result of the vertical stacking:\n",
      " [[ 1  2  3  4  5  6  7  8  9 10]\n",
      " [11 12 13 14 15 16 17 18 19 20]]\n",
      "\n",
      "The result of the Horizontal stacking:\n",
      " [ 1  2  3  4  5  6  7  8  9 10 11 12 13 14 15 16 17 18 19 20]\n"
     ]
    }
   ],
   "source": [
    "org_arr_1 = np.array([11, 12, 13, 14, 15, 16, 17, 18, 19, 20])\n",
    "var_satcked_arr = np.vstack((org_arr, org_arr_1))\n",
    "print(f\"The result of the vertical stacking:\\n {var_satcked_arr}\")\n",
    "\n",
    "hor_satcked_arr = np.hstack((org_arr, org_arr_1))\n",
    "print(f\"\\nThe result of the Horizontal stacking:\\n {hor_satcked_arr}\")"
   ]
  },
  {
   "cell_type": "code",
   "execution_count": 29,
   "id": "55c31d61-c073-4eee-a7a9-ad3ee38254c0",
   "metadata": {},
   "outputs": [
    {
     "name": "stdout",
     "output_type": "stream",
     "text": [
      "\n",
      "The result of the Vertical splitting:\n",
      " [array([[ 1,  2,  3,  4,  5,  6,  7,  8,  9, 10]]), array([[11, 12, 13, 14, 15, 16, 17, 18, 19, 20]])]\n",
      "\n",
      "The result of the Horizontal splitting:\n",
      " [array([1, 2]), array([3, 4]), array([5, 6]), array([7, 8]), array([ 9, 10])]\n"
     ]
    }
   ],
   "source": [
    "vsplit_arr = np.vsplit(var_satcked_arr, 2)\n",
    "hsplit_arr = np.hsplit(org_arr, 5)\n",
    "\n",
    "print(f\"\\nThe result of the Vertical splitting:\\n {vsplit_arr}\")\n",
    "print(f\"\\nThe result of the Horizontal splitting:\\n {hsplit_arr}\")"
   ]
  },
  {
   "cell_type": "markdown",
   "id": "bc95cdff-6693-4555-9a53-91f8cde5765d",
   "metadata": {},
   "source": [
    "# Requirement 3:"
   ]
  },
  {
   "cell_type": "code",
   "execution_count": 33,
   "id": "0b801adf-1a0f-41d2-bd13-4b2896a0b497",
   "metadata": {},
   "outputs": [
    {
     "name": "stdout",
     "output_type": "stream",
     "text": [
      "The Sum of original array Elements = 55\n",
      "The Mean of original array Elements = 5.5\n",
      "The Max num in the original array = 10\n",
      "The Min num in the original array = 1\n"
     ]
    }
   ],
   "source": [
    "print(f\"The Sum of original array Elements = {np.sum(org_arr)}\")\n",
    "print(f\"The Mean of original array Elements = {np.mean(org_arr)}\")\n",
    "print(f\"The Max num in the original array = {np.max(org_arr)}\")\n",
    "print(f\"The Min num in the original array = {np.min(org_arr)}\")"
   ]
  },
  {
   "cell_type": "code",
   "execution_count": 34,
   "id": "bcf8f145-a51b-4604-9b37-b3fdc4d2153f",
   "metadata": {},
   "outputs": [
    {
     "name": "stdout",
     "output_type": "stream",
     "text": [
      "2.8722813232690143\n",
      "8.25\n"
     ]
    }
   ],
   "source": [
    "std_value = np.std(org_arr)\n",
    "var_value = np.var(org_arr)\n",
    "print(std_value)  \n",
    "print(var_value)  "
   ]
  },
  {
   "cell_type": "code",
   "execution_count": null,
   "id": "0f1c01a4-eb26-4b1b-80cd-7c05d3174877",
   "metadata": {},
   "outputs": [],
   "source": []
  }
 ],
 "metadata": {
  "kernelspec": {
   "display_name": "Python 3 (ipykernel)",
   "language": "python",
   "name": "python3"
  },
  "language_info": {
   "codemirror_mode": {
    "name": "ipython",
    "version": 3
   },
   "file_extension": ".py",
   "mimetype": "text/x-python",
   "name": "python",
   "nbconvert_exporter": "python",
   "pygments_lexer": "ipython3",
   "version": "3.11.9"
  }
 },
 "nbformat": 4,
 "nbformat_minor": 5
}
