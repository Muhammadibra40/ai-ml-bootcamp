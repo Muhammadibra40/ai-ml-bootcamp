{
 "cells": [
  {
   "cell_type": "code",
   "execution_count": 1,
   "id": "71b37e7d-5310-47f8-863b-b6134316077b",
   "metadata": {},
   "outputs": [],
   "source": [
    "import numpy as np"
   ]
  },
  {
   "cell_type": "markdown",
   "id": "8e3dd8f9-ef61-4297-a6b3-4e75a532fb6d",
   "metadata": {},
   "source": [
    "# Characteristics of NumPy Arrays\n",
    "\n",
    "1. **Homogeneous**\n",
    "   - All elements in a NumPy array must have the same data type (e.g., `int`, `float`, `bool`).\n",
    "\n",
    "2. **Multidimensional**\n",
    "   - NumPy arrays can be 1D, 2D, or n-dimensional, making them flexible for various data representations.\n",
    "\n",
    "3. **Efficient Memory Usage**\n",
    "   - NumPy arrays are stored in contiguous blocks of memory, making operations faster and more efficient than Python lists.\n",
    "\n",
    "4. **Fixed Size**\n",
    "   - Once a NumPy array is created, its size is fixed and cannot be changed (no addition or removal of elements).\n",
    "\n",
    "5. **Vectorized Operations**\n",
    "   - NumPy allows element-wise operations without explicit loops, enabling faster computations (e.g., `arr + 10` adds 10 to each element).\n",
    "\n",
    "6. **Support for Advanced Indexing**\n",
    "   - NumPy arrays support slicing, boolean indexing, and fancy indexing for data manipulation.\n",
    "\n",
    "7. **Shape and Dimension**\n",
    "   - Arrays have attributes like `shape` (size of each dimension) and `ndim` (number of dimensions).\n",
    "\n",
    "8. **Broadcasting**\n",
    "   - Enables operations on arrays of different shapes by \"stretching\" smaller arrays to match the larger shape when possible.\n",
    "\n",
    "9. **Universal Functions (ufuncs)**\n",
    "   - NumPy provides a wide range of mathematical functions (e.g., `np.sum`, `np.mean`, `np.sin`) that operate efficiently on arrays.\n",
    "\n",
    "10. **Data Type Flexibility**\n",
    "    - NumPy supports various data types like integers (`int32`, `int64`), floats (`float32`, `float64`), complex numbers, and even user-defined types.\n",
    "\n",
    "11. **Integration with Other Libraries**\n",
    "    - NumPy arrays are widely used and integrated into libraries like Pandas, Matplotlib, and Scikit-learn.\n",
    "\n",
    "12. **Efficient I/O**\n",
    "    - Provides methods to read/write arrays to disk, like `np.save` and `np.load`, for fast storage and retrieval.\n",
    "\n",
    "13. **Interoperability**\n",
    "    - Supports conversion between Python lists and arrays, as well as compatibility with other array-like objects.\n"
   ]
  },
  {
   "cell_type": "markdown",
   "id": "8e6014f3-a1d6-4cdb-ad0c-d37d13a759e2",
   "metadata": {},
   "source": [
    "In NumPy, the shape attribute of a NumPy array gives the dimensions of the array as a tuple of integers. It essentially tells you the size of the array along each dimension.\n",
    "\n",
    "Definition: array.shape returns a tuple representing the number of elements in each dimension of the array.\n",
    "Structure:\n",
    "\n",
    "A 1D array: (number_of_elements,)\n",
    "\n",
    "A 2D array: (number_of_rows, number_of_columns)\n",
    "\n",
    "\n",
    "A 3D array: (depth, number_of_rows, number_of_columns)"
   ]
  },
  {
   "cell_type": "code",
   "execution_count": 12,
   "id": "683956a4-3208-4266-8b11-330a469943fe",
   "metadata": {},
   "outputs": [
    {
     "name": "stdout",
     "output_type": "stream",
     "text": [
      "The 1D numpy array: [1 2 3 4 5]\n",
      "Dimensions: 1\n",
      "Shape: (5,)\n",
      "Size (no. of elements): 5\n",
      "Data Type of the numpy array: int32\n"
     ]
    }
   ],
   "source": [
    "data_1d = [1, 2, 3, 4, 5]\n",
    "\n",
    "np_array_1d = np.array(data_1d)\n",
    "\n",
    "print(f\"The 1D numpy array: {np_array_1d}\")\n",
    "print(f\"Dimensions: {np_array_1d.ndim}\")\n",
    "print(f\"Shape: {np_array_1d.shape}\")\n",
    "print(f\"Size (no. of elements): {np_array_1d.size}\")\n",
    "print(f\"Data Type of the numpy array: {np_array_1d.dtype}\")"
   ]
  },
  {
   "cell_type": "code",
   "execution_count": 13,
   "id": "59570d50-5970-45fb-a67c-2cc2e86d4209",
   "metadata": {},
   "outputs": [
    {
     "name": "stdout",
     "output_type": "stream",
     "text": [
      "The 2D numpy array: [[ 1  2  3  4  5]\n",
      " [ 6  7  8  9 10]]\n",
      "Dimensions: 2\n",
      "Shape: (2, 5)\n",
      "Size (no. of elements): 10\n",
      "Data Type of the numpy array: int32\n"
     ]
    }
   ],
   "source": [
    "data_2d = [[1, 2, 3, 4, 5], [6, 7, 8, 9, 10]]\n",
    "\n",
    "np_array_2d = np.array(data_2d)\n",
    "\n",
    "print(f\"The 2D numpy array: {np_array_2d}\")\n",
    "print(f\"Dimensions: {np_array_2d.ndim}\")\n",
    "print(f\"Shape: {np_array_2d.shape}\")\n",
    "print(f\"Size (no. of elements): {np_array_2d.size}\")\n",
    "print(f\"Data Type of the numpy array: {np_array_2d.dtype}\")"
   ]
  },
  {
   "cell_type": "markdown",
   "id": "6ec46178-d4d9-4cbe-96fa-ab8dfd243754",
   "metadata": {},
   "source": [
    "### To create a valid 3D NumPy array, ensure that all sublists have the same shape:"
   ]
  },
  {
   "cell_type": "code",
   "execution_count": 14,
   "id": "95453df3-c239-447d-85de-981c6de4eb28",
   "metadata": {},
   "outputs": [
    {
     "ename": "ValueError",
     "evalue": "setting an array element with a sequence. The requested array has an inhomogeneous shape after 2 dimensions. The detected shape was (2, 2) + inhomogeneous part.",
     "output_type": "error",
     "traceback": [
      "\u001b[1;31m---------------------------------------------------------------------------\u001b[0m",
      "\u001b[1;31mValueError\u001b[0m                                Traceback (most recent call last)",
      "Cell \u001b[1;32mIn[14], line 3\u001b[0m\n\u001b[0;32m      1\u001b[0m data_3d \u001b[38;5;241m=\u001b[39m [[[\u001b[38;5;241m1\u001b[39m, \u001b[38;5;241m2\u001b[39m, \u001b[38;5;241m3\u001b[39m, \u001b[38;5;241m4\u001b[39m, \u001b[38;5;241m5\u001b[39m], [\u001b[38;5;241m6\u001b[39m, \u001b[38;5;241m7\u001b[39m, \u001b[38;5;241m8\u001b[39m, \u001b[38;5;241m9\u001b[39m, \u001b[38;5;241m10\u001b[39m]], [[\u001b[38;5;241m14\u001b[39m, \u001b[38;5;241m15\u001b[39m, \u001b[38;5;241m16\u001b[39m], [\u001b[38;5;241m20\u001b[39m, \u001b[38;5;241m15\u001b[39m, \u001b[38;5;241m46\u001b[39m]]]\n\u001b[1;32m----> 3\u001b[0m np_array_3d \u001b[38;5;241m=\u001b[39m \u001b[43mnp\u001b[49m\u001b[38;5;241;43m.\u001b[39;49m\u001b[43marray\u001b[49m\u001b[43m(\u001b[49m\u001b[43mdata_3d\u001b[49m\u001b[43m)\u001b[49m\n\u001b[0;32m      5\u001b[0m \u001b[38;5;28mprint\u001b[39m(\u001b[38;5;124mf\u001b[39m\u001b[38;5;124m\"\u001b[39m\u001b[38;5;124mThe 3D numpy array: \u001b[39m\u001b[38;5;132;01m{\u001b[39;00mnp_array_3d\u001b[38;5;132;01m}\u001b[39;00m\u001b[38;5;124m\"\u001b[39m)\n\u001b[0;32m      6\u001b[0m \u001b[38;5;28mprint\u001b[39m(\u001b[38;5;124mf\u001b[39m\u001b[38;5;124m\"\u001b[39m\u001b[38;5;124mDimensions: \u001b[39m\u001b[38;5;132;01m{\u001b[39;00mnp_array_3d\u001b[38;5;241m.\u001b[39mndim\u001b[38;5;132;01m}\u001b[39;00m\u001b[38;5;124m\"\u001b[39m)\n",
      "\u001b[1;31mValueError\u001b[0m: setting an array element with a sequence. The requested array has an inhomogeneous shape after 2 dimensions. The detected shape was (2, 2) + inhomogeneous part."
     ]
    }
   ],
   "source": [
    "data_3d = [[[1, 2, 3, 4, 5], [6, 7, 8, 9, 10]], [[14, 15, 16], [20, 15, 46]]]\n",
    "\n",
    "np_array_3d = np.array(data_3d)\n",
    "\n",
    "print(f\"The 3D numpy array: {np_array_3d}\")\n",
    "print(f\"Dimensions: {np_array_3d.ndim}\")\n",
    "print(f\"Shape: {np_array_3d.shape}\")\n",
    "print(f\"Size (no. of elements): {np_array_3d.size}\")\n",
    "print(f\"Data Type of the numpy array: {np_array_3d.dtype}\")"
   ]
  },
  {
   "cell_type": "code",
   "execution_count": 15,
   "id": "a7ca265e-ad12-4d4b-aeb0-ce380080febd",
   "metadata": {},
   "outputs": [
    {
     "name": "stdout",
     "output_type": "stream",
     "text": [
      "The 3D numpy array: [[[ 1  2  3]\n",
      "  [ 6  7  8]]\n",
      "\n",
      " [[14 15 16]\n",
      "  [20 15 46]]]\n",
      "Dimensions: 3\n",
      "Shape: (2, 2, 3)\n",
      "Size (no. of elements): 12\n",
      "Data Type of the numpy array: int32\n"
     ]
    }
   ],
   "source": [
    "data_3d = [[[1, 2, 3], [6, 7, 8]], [[14, 15, 16], [20, 15, 46]]]\n",
    "\n",
    "np_array_3d = np.array(data_3d)\n",
    "\n",
    "print(f\"The 3D numpy array: {np_array_3d}\")\n",
    "print(f\"Dimensions: {np_array_3d.ndim}\")\n",
    "print(f\"Shape: {np_array_3d.shape}\")\n",
    "print(f\"Size (no. of elements): {np_array_3d.size}\")\n",
    "print(f\"Data Type of the numpy array: {np_array_3d.dtype}\")"
   ]
  },
  {
   "cell_type": "markdown",
   "id": "6575f84d-1439-45c7-9e93-4daf6a7ac69a",
   "metadata": {},
   "source": [
    "## creating Numpy Arrays"
   ]
  },
  {
   "cell_type": "code",
   "execution_count": 21,
   "id": "2511dfc4-c752-4a08-ab04-220312df45a8",
   "metadata": {},
   "outputs": [
    {
     "name": "stdout",
     "output_type": "stream",
     "text": [
      "Zeros Array:\n",
      "[[0. 0. 0.]\n",
      " [0. 0. 0.]]\n",
      "\n",
      "Ones Array:\n",
      "[[1. 1. 1.]\n",
      " [1. 1. 1.]]\n",
      "\n",
      "Specific Number Array (filled with 7):\n",
      "[[7 7 7]\n",
      " [7 7 7]]\n",
      "\n",
      "Identity Array:\n",
      "[[1. 0. 0.]\n",
      " [0. 1. 0.]\n",
      " [0. 0. 1.]]\n",
      "\n",
      "Empty Array (uninitialized):\n",
      "[[1. 1. 1.]\n",
      " [1. 1. 1.]]\n",
      "\n",
      "Sequence Array (using np.arange):\n",
      "[0 2 4 6 8]\n",
      "\n",
      "Linspace Array (using np.linspace):\n",
      "[0.         0.26315789 0.52631579 0.78947368 1.05263158 1.31578947\n",
      " 1.57894737 1.84210526 2.10526316 2.36842105 2.63157895 2.89473684\n",
      " 3.15789474 3.42105263 3.68421053 3.94736842 4.21052632 4.47368421\n",
      " 4.73684211 5.        ]\n"
     ]
    }
   ],
   "source": [
    "zeros_array = np.zeros((2, 3))\n",
    "ones_array = np.ones((2, 3))\n",
    "specific_number_array = np.full((2, 3), 7)\n",
    "identity_array = np.eye(3)\n",
    "empty_array = np.empty((2, 3))\n",
    "\n",
    "sequence_array = np.arange(0, 10, 2)\n",
    "linspace_array = np.linspace(0, 5, 20)\n",
    "\n",
    "print(\"Zeros Array:\")\n",
    "print(zeros_array)\n",
    "print(\"\\nOnes Array:\")\n",
    "print(ones_array)\n",
    "print(\"\\nSpecific Number Array (filled with 7):\")\n",
    "print(specific_number_array)\n",
    "print(\"\\nIdentity Array:\")\n",
    "print(identity_array)\n",
    "print(\"\\nEmpty Array (uninitialized):\")\n",
    "print(empty_array)\n",
    "print(\"\\nSequence Array (using np.arange):\")\n",
    "print(sequence_array)\n",
    "print(\"\\nLinspace Array (using np.linspace):\")\n",
    "print(linspace_array)"
   ]
  },
  {
   "cell_type": "markdown",
   "id": "0cf1655e-e8d0-4da8-8cf1-854b56ab2f4b",
   "metadata": {},
   "source": [
    "### Reading from files"
   ]
  },
  {
   "cell_type": "code",
   "execution_count": 24,
   "id": "36bd3592-805a-4694-9c08-7383996ad7bb",
   "metadata": {},
   "outputs": [
    {
     "data": {
      "text/plain": [
       "array([[1., 2., 3.],\n",
       "       [4., 5., 6.],\n",
       "       [7., 8., 9.]])"
      ]
     },
     "execution_count": 24,
     "metadata": {},
     "output_type": "execute_result"
    }
   ],
   "source": [
    "data = np.loadtxt(\"data.txt\")\n",
    "# print(data)\n",
    "data"
   ]
  },
  {
   "cell_type": "code",
   "execution_count": 27,
   "id": "8fe981fd-fe85-4cfd-a3bb-98eef396b608",
   "metadata": {},
   "outputs": [
    {
     "data": {
      "text/plain": [
       "array([[1., 2., 3.],\n",
       "       [4., 5., 6.],\n",
       "       [7., 8., 9.]])"
      ]
     },
     "execution_count": 27,
     "metadata": {},
     "output_type": "execute_result"
    }
   ],
   "source": [
    "data_csv = np.loadtxt(\"data.csv\", delimiter = ',')\n",
    "data_csv"
   ]
  },
  {
   "cell_type": "code",
   "execution_count": 36,
   "id": "286fd90d-a6c8-43ff-8d3d-08b70ef59a91",
   "metadata": {},
   "outputs": [
    {
     "data": {
      "text/plain": [
       "array([[0.76, 0.97, 0.74, 0.57, 0.48],\n",
       "       [0.48, 0.18, 0.92, 0.85, 0.88],\n",
       "       [0.04, 0.28, 0.12, 0.21, 0.6 ],\n",
       "       [0.77, 0.25, 0.94, 0.55, 0.41],\n",
       "       [0.37, 0.98, 0.12, 0.97, 0.8 ]])"
      ]
     },
     "execution_count": 36,
     "metadata": {},
     "output_type": "execute_result"
    }
   ],
   "source": [
    "sample_data = np.random.rand(5, 5)\n",
    "\n",
    "np.savetxt(\"sample_csv.csv\", sample_data,  delimiter = ',', fmt='%0.2f')\n",
    "\n",
    "read_sample_data = np.loadtxt(\"sample_csv.csv\", delimiter = ',')\n",
    "read_sample_data"
   ]
  },
  {
   "cell_type": "markdown",
   "id": "b59d14aa-6a1e-4efd-866d-f2703eafccfc",
   "metadata": {},
   "source": [
    "## Arrays Manupilation"
   ]
  },
  {
   "cell_type": "code",
   "execution_count": 43,
   "id": "0fe0f208-714b-4578-85a6-8a9ad3761fa9",
   "metadata": {},
   "outputs": [
    {
     "name": "stdout",
     "output_type": "stream",
     "text": [
      "The array before: [10 20 30 40 50]\n",
      "The array after: [ 10 555  30  40  50]\n",
      "\n",
      "The array before: [10, 20, 30, 40, 50]\n",
      "The array after: [10, 20, 30, 40, 50]\n"
     ]
    }
   ],
   "source": [
    "# NumPy Array\n",
    "org_array = np.array([10, 20, 30, 40, 50])\n",
    "print(f\"The array before: {org_array}\")\n",
    "\n",
    "sliced_arr = org_array[1:4]\n",
    "sliced_arr[0] = 555\n",
    "\n",
    "print(f\"The array after: {org_array}\")\n",
    "\n",
    "# while a normal list\n",
    "org_array = [10, 20, 30, 40, 50]\n",
    "print(f\"\\nThe array before: {org_array}\")\n",
    "\n",
    "sliced_arr = org_array[1:4]\n",
    "sliced_arr[0] = 555\n",
    "\n",
    "print(f\"The array after: {org_array}\")"
   ]
  },
  {
   "cell_type": "markdown",
   "id": "9e057a93-59e6-49ec-897e-4e020ee515e6",
   "metadata": {},
   "source": [
    "## Math Operations are element-wise"
   ]
  },
  {
   "cell_type": "code",
   "execution_count": 46,
   "id": "8a96b4db-a7a1-4eec-82de-a37a81d89595",
   "metadata": {},
   "outputs": [
    {
     "name": "stdout",
     "output_type": "stream",
     "text": [
      "[11 22 33 44]\n",
      "[     10     400   27000 2560000]\n"
     ]
    }
   ],
   "source": [
    "arr1 = np.array([1, 2, 3, 4])\n",
    "arr2 = np.array([10, 20, 30, 40])\n",
    "\n",
    "# +, -, /, *, **\n",
    "print(arr1 + arr2)\n",
    "print(arr2 ** arr1)"
   ]
  },
  {
   "cell_type": "markdown",
   "id": "bfaa85b5-a17a-416e-bf89-f0a89eacb427",
   "metadata": {},
   "source": [
    "# Broadcasting in NumPy\n",
    "\n",
    "Broadcasting is a powerful feature in NumPy that allows operations on arrays of different shapes. It eliminates the need to manually reshape or replicate arrays to perform element-wise operations.\n",
    "\n",
    "---\n",
    "\n",
    "## How Broadcasting Works\n",
    "When performing operations between two arrays, NumPy compares their shapes element by element. Two dimensions are **compatible** when:\n",
    "1. They are **equal**, or\n",
    "2. One of them is **1**.\n",
    "\n",
    "If the dimensions are not compatible, broadcasting raises an error. Otherwise, the smaller array is “broadcast” across the larger array to match its shape.\n",
    "\n",
    "---\n",
    "\n",
    "## Broadcasting Rules\n",
    "1. **Compare shapes from right to left**.\n",
    "2. Apply these conditions for each dimension:\n",
    "   - If the dimensions match, proceed.\n",
    "   - If one of the dimensions is `1`, \"stretch\" it to match the other dimension.\n",
    "   - If neither condition is met, broadcasting is not possible.\n",
    "\n",
    "---\n",
    "\n",
    "## Examples of Broadcasting\n",
    "\n",
    "### 1. Adding a Scalar to an Array\n",
    "A scalar is treated as an array with shape `(1, ...)`.\n",
    "```python\n",
    "import numpy as np\n",
    "\n",
    "arr = np.array([1, 2, 3])\n",
    "result = arr + 10\n",
    "print(result)  # Output: [11 12 13]\n",
    "```\n",
    "\n",
    "## 2. Broadcasting 1D and 2D Arrays\n",
    "The 1D array is broadcast to match the shape of the 2D array.\n",
    "\n",
    "```python\n",
    "import numpy as np\n",
    "\n",
    "arr_2d = np.array([[1, 2, 3], [4, 5, 6]])\n",
    "arr_1d = np.array([10, 20, 30])\n",
    "\n",
    "result = arr_2d + arr_1d\n",
    "print(result)\n",
    "# Output:\n",
    "# [[11 22 33]\n",
    "#  [14 25 36]]\n",
    "```\n",
    "\n",
    "## 3. Broadcasting a Column Vector\n",
    "A column vector is broadcast to match a 2D matrix.\n",
    "\n",
    "```python\n",
    "arr_2d = np.array([[1, 2, 3], [4, 5, 6]])\n",
    "col_vector = np.array([[10], [20]])\n",
    "\n",
    "result = arr_2d + col_vector\n",
    "print(result)\n",
    "# Output:\n",
    "# [[11 12 13]\n",
    "#  [24 25 26]]\n",
    "```"
   ]
  },
  {
   "cell_type": "code",
   "execution_count": 49,
   "id": "6d24b1cd-3f60-44c4-b42f-08c72493d03d",
   "metadata": {},
   "outputs": [
    {
     "name": "stdout",
     "output_type": "stream",
     "text": [
      "[[ 1  2  3  4]\n",
      " [ 2  4  6  8]\n",
      " [ 3  6  9 12]]\n"
     ]
    }
   ],
   "source": [
    "# BroadCasting Multiplication in NumPy\n",
    "\n",
    "arr_1_x_3 = np.array([[1], [2], [3]])\n",
    "arr_3_x_1 = np.array([1, 2, 3, 4])\n",
    "\n",
    "arr_result = arr_1_x_3 * arr_3_x_1\n",
    "print(arr_result)"
   ]
  },
  {
   "cell_type": "markdown",
   "id": "43e305f3-8cad-4581-be1c-a6c6dec3736a",
   "metadata": {},
   "source": [
    "## Masking or Boolean Indexing"
   ]
  },
  {
   "cell_type": "code",
   "execution_count": 56,
   "id": "f8586c0d-11bc-453d-881b-2328cf156ad1",
   "metadata": {},
   "outputs": [
    {
     "name": "stdout",
     "output_type": "stream",
     "text": [
      "The filtering: [False  True  True  True  True False]\n",
      "The array after filtration: [20 25 30 40]\n"
     ]
    },
    {
     "data": {
      "text/plain": [
       "array([20, 25, 30, 40])"
      ]
     },
     "execution_count": 56,
     "metadata": {},
     "output_type": "execute_result"
    }
   ],
   "source": [
    "arr = np.array([10, 20, 25, 30, 40, 60])\n",
    "mask = (arr > 10) & (arr < 50)\n",
    "\n",
    "print(f\"The filtering: {mask}\")\n",
    "print(f\"The array after filtration: {arr[mask]}\")\n",
    "\n",
    "# or it could be simply\n",
    "arr[(arr > 10) & (arr < 50)]"
   ]
  },
  {
   "cell_type": "markdown",
   "id": "5700e2e6-4433-4b58-bc51-226e126dd1d0",
   "metadata": {},
   "source": [
    "## Data Types in NumPy and Casting"
   ]
  },
  {
   "cell_type": "markdown",
   "id": "2a58d7ed-40f8-4542-b0cd-23723d51eecf",
   "metadata": {},
   "source": [
    "# Data Types in NumPy\n",
    "\n",
    "NumPy provides a wide range of data types to handle different kinds of numerical and non-numerical data efficiently. Below is an overview of the commonly used data types in NumPy:\n",
    "\n",
    "## Numerical Data Types\n",
    "1. **Integer Types**:\n",
    "   - `int8`: Integer (-128 to 127)\n",
    "   - `int16`: Integer (-32,768 to 32,767)\n",
    "   - `int32`: Integer (-2,147,483,648 to 2,147,483,647)\n",
    "   - `int64`: Integer (-9,223,372,036,854,775,808 to 9,223,372,036,854,775,807)\n",
    "\n",
    "2. **Unsigned Integer Types**:\n",
    "   - `uint8`: Unsigned integer (0 to 255)\n",
    "   - `uint16`: Unsigned integer (0 to 65,535)\n",
    "   - `uint32`: Unsigned integer (0 to 4,294,967,295)\n",
    "   - `uint64`: Unsigned integer (0 to 18,446,744,073,709,551,615)\n",
    "\n",
    "3. **Floating-Point Types**:\n",
    "   - `float16`: Half precision floating-point\n",
    "   - `float32`: Single precision floating-point\n",
    "   - `float64`: Double precision floating-point (default)\n",
    "   - `float128`: Extended precision floating-point (platform-dependent)\n",
    "\n",
    "4. **Complex Numbers**:\n",
    "   - `complex64`: Complex number with 32-bit real and imaginary parts\n",
    "   - `complex128`: Complex number with 64-bit real and imaginary parts\n",
    "   - `complex256`: Complex number with 128-bit real and imaginary parts (platform-dependent)\n",
    "\n",
    "## Non-Numerical Data Types\n",
    "1. **Boolean**:\n",
    "   - `bool`: Boolean value (`True` or `False`).\n",
    "\n",
    "2. **String**:\n",
    "   - `str_`: Fixed-length Unicode string.\n",
    "   - `unicode_`: Alias for `str_`.\n",
    "\n",
    "3. **Object**:\n",
    "   - `object`: Generic Python object.\n",
    "\n",
    "4. **Void**:\n",
    "   - `void`: Represents raw data or custom binary data.\n",
    "\n",
    "## Specifying Data Types\n",
    "You can specify the data type explicitly when creating a NumPy array:\n",
    "```python\n",
    "import numpy as np\n",
    "\n",
    "arr = np.array([1, 2, 3], dtype=np.int32)\n",
    "print(arr.dtype)  # Output: int32\n"
   ]
  },
  {
   "cell_type": "code",
   "execution_count": 64,
   "id": "bde86843-256c-4d01-83cd-b5f67a57c899",
   "metadata": {},
   "outputs": [
    {
     "name": "stdout",
     "output_type": "stream",
     "text": [
      "float64\n",
      "[1 2 3 4]\n"
     ]
    }
   ],
   "source": [
    "flt_array = np.array([1.1, 2.2, 3.3, 4.4])\n",
    "print(flt_array.dtype)\n",
    "\n",
    "int_array = flt_array.astype('int8')\n",
    "print(int_array)"
   ]
  },
  {
   "cell_type": "markdown",
   "id": "e7bf9517-36f6-4116-a36a-ef874daf2837",
   "metadata": {},
   "source": [
    "# Random Number Generation in NumPy\n",
    "\n",
    "NumPy provides a powerful **random module** for generating random numbers, arrays, and performing random sampling. Below are the commonly used functions for random number generation.\n",
    "\n",
    "- Uniform Distribution (np.random.rand):\n",
    "\n",
    "Generates values in the range [0, 1) with equal probability.\n",
    "Useful for modeling scenarios where all outcomes are equally likely.\n",
    "- Normal Distribution (np.random.randn):\n",
    "\n",
    "Generates values with a mean of 0 and a variance of 1.\n",
    "Common in statistical modeling, where data is expected to follow a Gaussian distribution.\n",
    "- Random Integer (np.random.randint):\n",
    "\n",
    "Generates a random integer within the specified range [low, high).\n",
    "In this case, low=0 (default) and high=5, so it outputs a number between 0 and 4."
   ]
  },
  {
   "cell_type": "code",
   "execution_count": 69,
   "id": "170d458c-8ae5-4f0a-9be7-07881901e91c",
   "metadata": {},
   "outputs": [
    {
     "name": "stdout",
     "output_type": "stream",
     "text": [
      "Random Array (Uniform Distribution):\n",
      "[0.37454012 0.95071431 0.73199394 0.59865848 0.15601864]\n",
      "\n",
      "Random Array (Normal Distribution):\n",
      "[ 0.27904129  1.01051528 -0.58087813 -0.52516981 -0.57138017]\n",
      "\n",
      "Random Integer (0 to 4):\n",
      "4\n",
      "[89 49 91 59 42]\n"
     ]
    }
   ],
   "source": [
    "np.random.seed(42)\n",
    "\n",
    "# Generate 5 random floats sampled from a uniform distribution [0, 1)\n",
    "random_array_uniform = np.random.rand(5)\n",
    "print(\"Random Array (Uniform Distribution):\")\n",
    "print(random_array_uniform)  # Example: [0.5488135  0.71518937 0.60276338 0.54488318 0.4236548 ]\n",
    "\n",
    "# Generate 5 random floats sampled from a normal (Gaussian) distribution with mean 0 and variance 1\n",
    "random_array_normal_dist = np.random.randn(5)\n",
    "print(\"\\nRandom Array (Normal Distribution):\")\n",
    "print(random_array_normal_dist)  # Example: [-0.97727788  0.95008842 -0.15135721 -0.10321885  0.4105985 ]\n",
    "\n",
    "# Generate a single random integer between 0 (inclusive) and 5 (exclusive)\n",
    "random_array_int = np.random.randint(5)\n",
    "print(\"\\nRandom Integer (0 to 4):\")\n",
    "print(random_array_int)  # Example: 3\n",
    "\n",
    "random_array_inters = np.random.randint(1, 100, size = 5)\n",
    "print(random_array_inters)"
   ]
  },
  {
   "cell_type": "code",
   "execution_count": null,
   "id": "badfb43f-abab-4835-8c5b-bd7be88ffb0c",
   "metadata": {},
   "outputs": [],
   "source": []
  }
 ],
 "metadata": {
  "kernelspec": {
   "display_name": "Python 3 (ipykernel)",
   "language": "python",
   "name": "python3"
  },
  "language_info": {
   "codemirror_mode": {
    "name": "ipython",
    "version": 3
   },
   "file_extension": ".py",
   "mimetype": "text/x-python",
   "name": "python",
   "nbconvert_exporter": "python",
   "pygments_lexer": "ipython3",
   "version": "3.11.9"
  }
 },
 "nbformat": 4,
 "nbformat_minor": 5
}
